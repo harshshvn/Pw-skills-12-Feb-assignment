{
 "cells": [
  {
   "cell_type": "markdown",
   "id": "7d953a95-c0f9-45cb-b249-2251f2b7636f",
   "metadata": {},
   "source": [
    "Q1"
   ]
  },
  {
   "cell_type": "markdown",
   "id": "d20cd7ec-be6c-4bed-83a9-ecfeaadc2fe5",
   "metadata": {},
   "source": [
    "An exception is an event, which occurs during the execution of a program that disrupts the normal flow of the program's instructions. In general, when a Python script encounters a situation that it cannot cope with, it raises an exception\n",
    "Difference between exception and syntax errors are-\n",
    "\n",
    "SYNTAX ERRORS-The syntax error exception occurs when the code does not conform to Python keywords, naming style, or programming structure. The interpreter sees the invalid syntax during its parsing phase and raises a SyntaxError exception. The program stops and fails at the point where the syntax error happened."
   ]
  },
  {
   "cell_type": "markdown",
   "id": "312f54b3-ddca-4d8f-9270-760a60238cde",
   "metadata": {},
   "source": [
    "Q2"
   ]
  },
  {
   "cell_type": "markdown",
   "id": "99c9ff7c-bda4-4a2f-be76-bf86e87064f4",
   "metadata": {},
   "source": [
    "When an exception is not handled then the program stop executing the rest of the code and throws an exception.For ex-"
   ]
  },
  {
   "cell_type": "code",
   "execution_count": 1,
   "id": "1c4ab47e-23c2-447c-a82e-799f91603309",
   "metadata": {},
   "outputs": [
    {
     "ename": "ZeroDivisionError",
     "evalue": "division by zero",
     "output_type": "error",
     "traceback": [
      "\u001b[0;31m---------------------------------------------------------------------------\u001b[0m",
      "\u001b[0;31mZeroDivisionError\u001b[0m                         Traceback (most recent call last)",
      "Cell \u001b[0;32mIn[1], line 3\u001b[0m\n\u001b[1;32m      1\u001b[0m a\u001b[38;5;241m=\u001b[39m\u001b[38;5;241m5\u001b[39m\n\u001b[1;32m      2\u001b[0m b\u001b[38;5;241m=\u001b[39m\u001b[38;5;241m0\u001b[39m\n\u001b[0;32m----> 3\u001b[0m \u001b[38;5;28mprint\u001b[39m(\u001b[43ma\u001b[49m\u001b[38;5;241;43m/\u001b[39;49m\u001b[43mb\u001b[49m)\n",
      "\u001b[0;31mZeroDivisionError\u001b[0m: division by zero"
     ]
    }
   ],
   "source": [
    "a=5\n",
    "b=0\n",
    "print(a/b)#here the zero division error is given"
   ]
  },
  {
   "cell_type": "markdown",
   "id": "5d2896bc-78cb-4aee-bc9f-94be35e0bf70",
   "metadata": {},
   "source": [
    "Q3"
   ]
  },
  {
   "cell_type": "markdown",
   "id": "3af51ec5-15a3-465f-ba53-88035c716ba2",
   "metadata": {},
   "source": [
    "Try statement in python is used to catch and exception in python and except statement is used to handle the exception in python.For example-"
   ]
  },
  {
   "cell_type": "code",
   "execution_count": 2,
   "id": "e485adda-3be8-4675-8050-6a2a12078856",
   "metadata": {},
   "outputs": [
    {
     "name": "stdout",
     "output_type": "stream",
     "text": [
      "the code can not be executed due to file not found\n"
     ]
    }
   ],
   "source": [
    "\n",
    "try:\n",
    "    a=open(\"abc.txt\",\"r\")\n",
    "except FileNotFoundError:\n",
    "    print(\"the code can not be executed due to file not found\")\n",
    "    "
   ]
  },
  {
   "cell_type": "markdown",
   "id": "fa6b0a25-c824-42df-a089-5769945cbae5",
   "metadata": {},
   "source": [
    "Q4\n"
   ]
  },
  {
   "cell_type": "markdown",
   "id": "94f219dc-5072-40ac-b97b-0d8150f5ae81",
   "metadata": {},
   "source": [
    "a.try and else-Try block will catch the exception if it is occured and if there is no exception occured then the else block code will be executed.For example-"
   ]
  },
  {
   "cell_type": "code",
   "execution_count": 6,
   "id": "d4290f89-61f7-4377-960d-2343c33bc095",
   "metadata": {},
   "outputs": [],
   "source": [
    "try:\n",
    "    a=open(\"abc.txt\",\"w\")\n",
    "except FileNotFoundError:\n",
    "    print(\"the code can not be executed due to file not found\")\n",
    "else:\n",
    "    a.write(\"DATA SCIENCE\")\n",
    "    a.close()\n"
   ]
  },
  {
   "cell_type": "markdown",
   "id": "425b4bd6-2837-424c-98b5-c6465c22cfa5",
   "metadata": {},
   "source": [
    "b.finally:The finally block code will be executed i both the conditon like if the exception is occured then also the finally block code will be executed and if the exception is not occured then also the finally block code will be executed.For example-"
   ]
  },
  {
   "cell_type": "code",
   "execution_count": 7,
   "id": "faa5c510-5550-4335-968a-212572bc8d57",
   "metadata": {},
   "outputs": [
    {
     "name": "stdout",
     "output_type": "stream",
     "text": [
      "The code is been executed\n"
     ]
    }
   ],
   "source": [
    "try:\n",
    "    a=open(\"abc.txt\",\"w\")\n",
    "except FileNotFoundError:\n",
    "    print(\"the code can not be executed due to file not found\")\n",
    "else:\n",
    "    a.write(\"DATA SCIENCE\")\n",
    "    a.close()\n",
    "finally:\n",
    "    print(\"The code is been executed\")"
   ]
  },
  {
   "cell_type": "markdown",
   "id": "3a0dd48f-17d5-4771-a389-c5ddd10f2f85",
   "metadata": {},
   "source": [
    "c.raise-The raise keyword in python is used to raise the excption by the user.For example-"
   ]
  },
  {
   "cell_type": "code",
   "execution_count": 8,
   "id": "dc0d3956-788d-4458-8f5b-4f46f0a58a0a",
   "metadata": {},
   "outputs": [
    {
     "ename": "Exception",
     "evalue": "Sorry, no numbers below zero",
     "output_type": "error",
     "traceback": [
      "\u001b[0;31m---------------------------------------------------------------------------\u001b[0m",
      "\u001b[0;31mException\u001b[0m                                 Traceback (most recent call last)",
      "Cell \u001b[0;32mIn[8], line 4\u001b[0m\n\u001b[1;32m      1\u001b[0m x \u001b[38;5;241m=\u001b[39m \u001b[38;5;241m-\u001b[39m\u001b[38;5;241m1\u001b[39m\n\u001b[1;32m      3\u001b[0m \u001b[38;5;28;01mif\u001b[39;00m x \u001b[38;5;241m<\u001b[39m \u001b[38;5;241m0\u001b[39m:\n\u001b[0;32m----> 4\u001b[0m   \u001b[38;5;28;01mraise\u001b[39;00m \u001b[38;5;167;01mException\u001b[39;00m(\u001b[38;5;124m\"\u001b[39m\u001b[38;5;124mSorry, no numbers below zero\u001b[39m\u001b[38;5;124m\"\u001b[39m)\n",
      "\u001b[0;31mException\u001b[0m: Sorry, no numbers below zero"
     ]
    }
   ],
   "source": [
    "x = -1\n",
    "\n",
    "if x < 0:\n",
    "  raise Exception(\"Sorry, no numbers below zero\")\n"
   ]
  },
  {
   "cell_type": "markdown",
   "id": "dcac67c8-a518-4e24-aa70-e203c72e0512",
   "metadata": {},
   "source": [
    "Q5"
   ]
  },
  {
   "cell_type": "markdown",
   "id": "fa80d91a-c422-4a7e-a042-313f99889627",
   "metadata": {},
   "source": [
    "Sometimes based on project requirement, a programmer needs to create his own exceptions and raise explicitly for corresponding scenarios. Such types of exceptions are called customized Exceptions or Programmatic Exceptions. We can raise a custom exception by using the keyword ‘raise’."
   ]
  },
  {
   "cell_type": "markdown",
   "id": "aac01e3a-ba63-416d-b433-d6e008ba139d",
   "metadata": {},
   "source": [
    "Q6-"
   ]
  },
  {
   "cell_type": "code",
   "execution_count": 16,
   "id": "15a0ca7f-f3fb-430c-b1eb-195380abb90a",
   "metadata": {},
   "outputs": [],
   "source": [
    "class Speedcheck(Exception):\n",
    "    def __init__(self,msg):\n",
    "        self.msg=msg\n",
    "def check(speed):\n",
    "    if speed<0:\n",
    "        raise Speedcheck(\"Speed can not be in negative\")\n",
    "    elif speed>500:\n",
    "        raise Speedcheck(\"speed is to high\")"
   ]
  },
  {
   "cell_type": "code",
   "execution_count": null,
   "id": "55536cc5-881b-4c9c-9d75-2e222df02dbe",
   "metadata": {},
   "outputs": [],
   "source": []
  },
  {
   "cell_type": "code",
   "execution_count": 14,
   "id": "c04c1cde-8391-4789-b5e4-6770cbc4a232",
   "metadata": {},
   "outputs": [
    {
     "ename": "SyntaxError",
     "evalue": "incomplete input (1860037408.py, line 5)",
     "output_type": "error",
     "traceback": [
      "\u001b[0;36m  Cell \u001b[0;32mIn[14], line 5\u001b[0;36m\u001b[0m\n\u001b[0;31m    except handleexception:\u001b[0m\n\u001b[0m                           ^\u001b[0m\n\u001b[0;31mSyntaxError\u001b[0m\u001b[0;31m:\u001b[0m incomplete input\n"
     ]
    }
   ],
   "source": [
    "try:\n",
    "    speed=int(input(\"Enter the speed\"))\n",
    "    \n",
    "except handleexception:\n",
    "    raise "
   ]
  },
  {
   "cell_type": "code",
   "execution_count": null,
   "id": "f04e76fa-7c9a-4c1d-be27-72b7c252eb07",
   "metadata": {},
   "outputs": [],
   "source": []
  },
  {
   "cell_type": "code",
   "execution_count": null,
   "id": "8d802de4-d804-454f-b88e-5922f72b54c8",
   "metadata": {},
   "outputs": [],
   "source": []
  }
 ],
 "metadata": {
  "kernelspec": {
   "display_name": "Python 3 (ipykernel)",
   "language": "python",
   "name": "python3"
  },
  "language_info": {
   "codemirror_mode": {
    "name": "ipython",
    "version": 3
   },
   "file_extension": ".py",
   "mimetype": "text/x-python",
   "name": "python",
   "nbconvert_exporter": "python",
   "pygments_lexer": "ipython3",
   "version": "3.10.8"
  }
 },
 "nbformat": 4,
 "nbformat_minor": 5
}
